{
 "cells": [
  {
   "cell_type": "markdown",
   "metadata": {},
   "source": [
    "Name: Jolene Branch\n",
    "\n",
    "Date: August 2, 2020\n",
    "\n",
    "Class: DSC550\n",
    "\n",
    "Assignment: K Nearest Neighbor (week 6 exercise 12.4.3)"
   ]
  },
  {
   "cell_type": "markdown",
   "metadata": {},
   "source": [
    "Consider the following one-dimensional training set:\n",
    "(1,1), (2,2), (4,3), (8,4), (16,5), (32,6)\n",
    "\n",
    "Describe the function f(q), the label that is returned in response to the query q, when the interpolation used is:"
   ]
  },
  {
   "cell_type": "markdown",
   "metadata": {},
   "source": [
    "(a) The label of the nearest neighbor"
   ]
  },
  {
   "cell_type": "code",
   "execution_count": 1,
   "metadata": {},
   "outputs": [],
   "source": [
    "import numpy as np\n",
    "points = np.array([[1,1],[2,2],[4,3],[8,4],[16,5],[32,6]])         # in (x,y), x is the vector"
   ]
  },
  {
   "cell_type": "code",
   "execution_count": 2,
   "metadata": {},
   "outputs": [
    {
     "data": {
      "image/png": "[encoded data removed]",
      "text/plain": [
       "<Figure size 432x288 with 1 Axes>"
      ]
     },
     "metadata": {
      "needs_background": "light"
     },
     "output_type": "display_data"
    }
   ],
   "source": [
    "# help from S.Sears on Tuesday evening class call\n",
    "\n",
    "import matplotlib.pyplot as plt\n",
    "\n",
    "def nn_interpolation(train, q):               # will call this function in a for loop at the very end and pass the 'points'\n",
    "    \"\"\"\n",
    "    Takes train (x,y) data set and returns y for q-query data point based on one nearest neighbor.\n",
    "    \"\"\"\n",
    "    nearest_dist = 99999                      # arbitrary large starting distance, to make sure the 'if' statement works\n",
    "    i = 0\n",
    "    for point in train:                       # This is actually the array of vectors, being looped through\n",
    "        x = point[0]\n",
    "        y = point[i]\n",
    "        if abs(q - x) < nearest_dist:\n",
    "            nearest_dist = abs(q - x)         # if you already know you are there, you can keep the y\n",
    "            label = y\n",
    "    return label\n",
    "\n",
    "x = np.arange(0, 33, 0.01)\n",
    "y = np.array([])\n",
    "for q in x:\n",
    "    y = np.append(y, nn_interpolation(points, q))          # Loop through all the vectors and compute y for each x, or f(q)\n",
    "    \n",
    "plt.plot(x,y)\n",
    "plt.xlabel('q')\n",
    "plt.ylabel('label')\n",
    "plt.title('One Nearest Neighbor')\n",
    "plt.show()\n",
    "# This output doesn't look right"
   ]
  },
  {
   "cell_type": "code",
   "execution_count": 3,
   "metadata": {},
   "outputs": [
    {
     "data": {
      "image/png": "[encoded data removed]",
      "text/plain": [
       "<Figure size 432x288 with 1 Axes>"
      ]
     },
     "metadata": {
      "needs_background": "light"
     },
     "output_type": "display_data"
    }
   ],
   "source": [
    "# from https://mmas.github.io/interpolation-scipy\n",
    "# This is how Andrea did it.  The code is much easier.\n",
    "import matplotlib.pyplot as plt\n",
    "import numpy as np\n",
    "from scipy import interpolate\n",
    "\n",
    "x = np.array([1,2,4,8,16,32])\n",
    "y = np.array([1,2,3,4,5,6])\n",
    "n = 1\n",
    "xn = x*n\n",
    "\n",
    "f = interpolate.interp1d(x,y, kind='nearest')\n",
    "yn = f(xn)\n",
    "\n",
    "plt.plot(xn, yn, '--k', label='True values')\n",
    "plt.plot(x, y, 'ok', label='Known points')\n",
    "plt.plot(xn, yn, label='Interpolated values')\n",
    "plt.legend()\n",
    "plt.show()"
   ]
  },
  {
   "cell_type": "markdown",
   "metadata": {},
   "source": [
    "(b) The average of the labels of the two nearest neighbors"
   ]
  },
  {
   "cell_type": "code",
   "execution_count": 4,
   "metadata": {},
   "outputs": [
    {
     "data": {
      "image/png": "[encoded data removed]",
      "text/plain": [
       "<Figure size 432x288 with 1 Axes>"
      ]
     },
     "metadata": {
      "needs_background": "light"
     },
     "output_type": "display_data"
    }
   ],
   "source": [
    "# help from S.Sears on Tuesday evening class call\n",
    "\n",
    "import matplotlib.pyplot as plt\n",
    "import numpy as np\n",
    "\n",
    "def two_nn_interpolation(train, q):      # will call this function in a for loop at the very end and pass the 'points'\n",
    "    \"\"\"\n",
    "    Takes train (x,y) data set and returns y for q-query data point based on average of two nearest neighbors.\n",
    "    \"\"\"\n",
    "    distances = []                        # create empty list to store the absolute value differences\n",
    "    i = 0\n",
    "    for point in train:\n",
    "        x = point[0]\n",
    "        y = point[i]\n",
    "        distances.append(abs(q-x))\n",
    "        \n",
    "    smallest = 9999                       # arbitrary large starting distance\n",
    "    smallest_i = 0                        # starting smallest index, index of closest neighbor\n",
    "    second_smallest = 9999                # arbitrary large starting distance\n",
    "    second_smallest_1 = 0                 # starting second smallest index, index of second closest neighbor\n",
    "    for i in range(len(distances)):\n",
    "        if distances[i] < smallest:\n",
    "            smallest = distances[i]\n",
    "            smallest_i = 1\n",
    "    for i in range(len(distances)):\n",
    "        if distances[i] < second_smallest and i != smallest_i:\n",
    "            second_smallest = distances[i]\n",
    "            second_smallest_1 = 1\n",
    "            \n",
    "    ave_of_labels = (train[smallest_i][1] - train[second_smallest_1][1]) / 2\n",
    "    \n",
    "    return ave_of_labels\n",
    "\n",
    "x = np.arange(0, 33, 0.01)\n",
    "y = np.array([])\n",
    "for q in x:\n",
    "    y = np.append(y, two_nn_interpolation(points, q))        # Compute y for each x, or f(q)\n",
    "    \n",
    "plt.plot(x,y)\n",
    "plt.xlabel('q')\n",
    "plt.ylabel('label')\n",
    "plt.title('Average of Two Nearest Neighbors')\n",
    "plt.show()\n",
    "\n",
    "# Hmm.  This doesn't look quite right!"
   ]
  }
 ],
 "metadata": {
  "kernelspec": {
   "display_name": "Python 3",
   "language": "python",
   "name": "python3"
  },
  "language_info": {
   "codemirror_mode": {
    "name": "ipython",
    "version": 3
   },
   "file_extension": ".py",
   "mimetype": "text/x-python",
   "name": "python",
   "nbconvert_exporter": "python",
   "pygments_lexer": "ipython3",
   "version": "3.7.6"
  }
 },
 "nbformat": 4,
 "nbformat_minor": 4
}
